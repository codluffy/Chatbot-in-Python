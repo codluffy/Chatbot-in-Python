{
 "cells": [
  {
   "cell_type": "code",
   "execution_count": null,
   "metadata": {},
   "outputs": [],
   "source": [
    "print(\"\\nWelcone to Chatbot in Python </> \\n\")"
   ]
  },
  {
   "cell_type": "markdown",
   "metadata": {},
   "source": [
    "##### Importing the requered Python Libraries"
   ]
  },
  {
   "cell_type": "code",
   "execution_count": null,
   "metadata": {},
   "outputs": [],
   "source": [
    "import pyjokes\n",
    "from datetime import date\n",
    "from datetime import datetime\n",
    "from webbrowser import open \n",
    "from nltk.chat.util import Chat, reflections"
   ]
  },
  {
   "cell_type": "markdown",
   "metadata": {},
   "source": [
    "##### Providing `jokes` and `web-search` functionalities"
   ]
  },
  {
   "cell_type": "code",
   "execution_count": null,
   "metadata": {},
   "outputs": [],
   "source": [
    "def __Open_Link( name: str = ... ) -> object:\n",
    "    open(name)\n",
    "\n",
    "\n",
    "def __GetJoke():\n",
    "    pyjokes.get_joke(language=\"en\", category=\"all\")\n",
    "\n",
    "\n",
    "def __GetJokes():\n",
    "    pyjokes.get_jokes(language=\"en\", category=\"all\")\n",
    "\n",
    "\n",
    "\n",
    "open_link = __Open_Link\n",
    "joke = __GetJoke\n",
    "jokes = __GetJokes"
   ]
  },
  {
   "cell_type": "markdown",
   "metadata": {},
   "source": [
    "##### Define patterns and responses"
   ]
  },
  {
   "cell_type": "code",
   "execution_count": null,
   "metadata": {},
   "outputs": [],
   "source": [
    "patterns = [\n",
    "    ##  (r'', []),\n",
    "    (r'hi|hello|hey', ['Hello!', 'Hi there!', 'Hey!']),\n",
    "    (r'your name|your name?', ['I\\'m chatbot\\nHow can I help you']),\n",
    "    (r'who are you|who are you?', ['I am a chatbot']),\n",
    "    (r'what is your name?', ['I am a chatbot.', 'I don\\'t have a name. \\nYou can call me Chatbot.']),\n",
    "    (r'how are you', [f\"I am fine, Thank you\\nHow are you, Sir\"]),\n",
    "    (r'how are you?', ['I\\'m just a computer program, so I don\\'t have feelings, but thanks for asking!']),\n",
    "    (r'bye|goodbye', ['Goodbye!', 'See you later!', 'Bye!']),\n",
    "    (r'day|today', [date.today().strftime(\"%Y|%m|%d\")]),\n",
    "    (r'time|current time|what is the time|what is the time now|what is the time?|what is the time now?', [datetime.now().strftime(\"%H:%M:%S\")]),\n",
    "    (r'who create you|who made you', [\"The Developers\"]),\n",
    "]"
   ]
  },
  {
   "cell_type": "markdown",
   "metadata": {},
   "source": [
    "##### Create a **Chatbot** instance"
   ]
  },
  {
   "cell_type": "code",
   "execution_count": null,
   "metadata": {},
   "outputs": [],
   "source": [
    "chatbot = Chat(patterns, reflections)"
   ]
  },
  {
   "cell_type": "markdown",
   "metadata": {},
   "source": [
    "##### Creating `reflections`"
   ]
  },
  {
   "cell_type": "code",
   "execution_count": null,
   "metadata": {},
   "outputs": [],
   "source": [
    "reflections = {\n",
    "    \"i am\": \"you are\",\n",
    "    \"i was\": \"you were\",\n",
    "    \"i\": \"you\",\n",
    "    \"i'm\": \"you are\",\n",
    "    \"my\": \"your\",\n",
    "    \"you are\": \"I am\",\n",
    "    \"you were\": \"I was\",\n",
    "    \"your\": \"my\",\n",
    "    \"yours\": \"mine\",\n",
    "    \"you\": \"me\",\n",
    "    \"me\": \"you\",\n",
    "}"
   ]
  },
  {
   "cell_type": "markdown",
   "metadata": {},
   "source": [
    "##### Start the **Chatbot:**"
   ]
  },
  {
   "cell_type": "code",
   "execution_count": null,
   "metadata": {},
   "outputs": [],
   "source": [
    "print(\"Chatbot: Hello! How can \\nI help you today?\")\n",
    "while True:\n",
    "    user_input = input(\"\\nYou: \")\n",
    "    if user_input.lower() in {'quit', 'exit'}:\n",
    "        print(\"Chatbot: Goodbye!\")\n",
    "        break\n",
    "    response = chatbot.respond(user_input)\n",
    "    print(\"Chatbot:\", response)"
   ]
  }
 ],
 "metadata": {
  "kernelspec": {
   "display_name": "Python 3",
   "language": "python",
   "name": "python3"
  },
  "language_info": {
   "codemirror_mode": {
    "name": "ipython",
    "version": 3
   },
   "file_extension": ".py",
   "mimetype": "text/x-python",
   "name": "python",
   "nbconvert_exporter": "python",
   "pygments_lexer": "ipython3",
   "version": "3.11.3"
  }
 },
 "nbformat": 4,
 "nbformat_minor": 2
}
